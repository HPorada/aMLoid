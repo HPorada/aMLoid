{
  "nbformat": 4,
  "nbformat_minor": 0,
  "metadata": {
    "colab": {
      "provenance": []
    },
    "kernelspec": {
      "name": "python3",
      "display_name": "Python 3"
    },
    "language_info": {
      "name": "python"
    }
  },
  "cells": [
    {
      "cell_type": "markdown",
      "source": [
        "# Data preparation\n",
        "---\n",
        "The notebook contains functions used in preprocessing the datasets before using them for machine learning training performed in the project:\n",
        "1. **amyloid_preprocess**\n",
        "2. **gap_sequences**\n",
        "3. **one_hot_encoding**"
      ],
      "metadata": {
        "id": "woapM6VxJYhD"
      }
    },
    {
      "cell_type": "markdown",
      "source": [
        "---\n",
        "Import necessary libraries for datast processing and manipulation."
      ],
      "metadata": {
        "id": "LNqv0YTtKq-j"
      }
    },
    {
      "cell_type": "code",
      "source": [
        "import numpy as np\n",
        "import pandas as pd\n",
        "import random"
      ],
      "metadata": {
        "id": "o0K7m2neDS7L"
      },
      "execution_count": 27,
      "outputs": []
    },
    {
      "cell_type": "markdown",
      "source": [
        "---\n",
        "Function performing initial preprocessing of the datasets by:\n",
        "1. reading the CSV file from a path given as an argument,\n",
        "2. extracting columns with interactor and interactee sequences based on names given as arguments,\n",
        "3. removing hyphens (-) present in the initial sequences,\n",
        "4. creating a DataFrame with interactor and interacteee columns,\n",
        "5. removing rows with uncorrectly read datapoints ('nan'),\n",
        "6. removing duplicated rows,\n",
        "7. resetting the indexing\n",
        "8. returning the dataset with processed data"
      ],
      "metadata": {
        "id": "D1iEZbrMKyaN"
      }
    },
    {
      "cell_type": "code",
      "source": [
        "def amyloid_preprocess(csv_file, interactor_column, interactee_column, delimiter=\";\", skiprows=0,):\n",
        "  \"\"\"\n",
        "  Function to preprocesses amyloid data from a CSV file and return it as a DataFrame.\n",
        "\n",
        "  Args:\n",
        "      csv_file (str): Path to the CSV file containing the amyloid data.\n",
        "      interactor_column (str): Name of the column containing the interactor sequences.\n",
        "      interactee_column (str): Name of the column containing the interactee sequences.\n",
        "      delimiter (str, optional): Delimiter used in the CSV file. Defaults to \";\".\n",
        "      skiprows (int, optional): Number of initial rows to skip while reading the CSV file. Defaults to 0.\n",
        "\n",
        "  Returns:\n",
        "      pandas.DataFrame: Preprocessed DataFrame with columns 'interactor' and 'interactee'.\n",
        "  \"\"\"\n",
        "\n",
        "  data_file = pd.read_csv(csv_file, delimiter=delimiter, skiprows=skiprows)\n",
        "\n",
        "  interactor = data_file[interactor_column]\n",
        "  interactee = data_file[interactee_column]\n",
        "\n",
        "  new_interactor = []\n",
        "  new_interactee = []\n",
        "\n",
        "  for i in range(len(interactor)):\n",
        "    new_interactor.append(str(interactor[i]).replace(\"-\", \"\"))\n",
        "    new_interactee.append(str(interactee[i]).replace(\"-\", \"\"))\n",
        "\n",
        "  columns = [\"interactor\", \"interactee\"]\n",
        "  data = pd.DataFrame(list(zip(new_interactor, new_interactee)), columns=columns)\n",
        "\n",
        "  data.replace('nan', np.nan, inplace=True)\n",
        "  data.dropna(inplace=True)\n",
        "  data.drop_duplicates(inplace=True)\n",
        "  data.reset_index(drop=True, inplace=True)\n",
        "\n",
        "  return data"
      ],
      "metadata": {
        "id": "O-H5sLWgfr77"
      },
      "execution_count": 2,
      "outputs": []
    },
    {
      "cell_type": "markdown",
      "source": [
        "---\n",
        "Call the *amyloid_preprocess* function on \"HRAM.csv\" file, containing interacting pairs of sequences of HRAM amyloid motif."
      ],
      "metadata": {
        "id": "5ilw9ZU2Mzny"
      }
    },
    {
      "cell_type": "code",
      "execution_count": 8,
      "metadata": {
        "colab": {
          "base_uri": "https://localhost:8080/"
        },
        "id": "ZJX7FL07-XX2",
        "outputId": "7a0a4579-2d47-4482-ae5a-0611cbc77df5"
      },
      "outputs": [
        {
          "output_type": "stream",
          "name": "stdout",
          "text": [
            "Rows:  146\n",
            "Columns:  2\n",
            "First 5 rows of data:\n",
            "              interactor             interactee\n",
            "0  GRNSAKDIRTEERARVQLGNV  TTNSVETVVGKGESRVLIGNE\n",
            "1  GRNSAKDIRTEKRARVQLGNV  TTNSVETVVGKGESKVLIGNE\n",
            "2  VRIYAKDIKSEEMARVRVGNE  TVSRVDSVAARGKSAVHIGHQ\n",
            "3    GKNSAGRINGPGMVNIGNS  TVNHVDEINTAEPSRVHIGNT\n",
            "4  HRIKIGKVTQASNAKAVIGVH  MNVEIDDVSVGPGSWSLVGVS\n"
          ]
        }
      ],
      "source": [
        "HRAM_data = amyloid_preprocess(\"HRAM.csv\", \"motif_1_aligned\", \"motif_2_aligned\")\n",
        "\n",
        "print(\"Rows: \", HRAM_data.shape[0])\n",
        "print(\"Columns: \", HRAM_data.shape[1])\n",
        "print(\"First 5 rows of data:\")\n",
        "print(HRAM_data.head())"
      ]
    },
    {
      "cell_type": "markdown",
      "source": [
        "---\n",
        "Call the *amyloid_preprocess** function on \"BASS.csv\" file, containing interacting pairs of sequences of BASS amyloid motif. One first row of the original file needs to be skipped in order to correctly collect interactor and interactee sequences."
      ],
      "metadata": {
        "id": "R1xDFpfPNNww"
      }
    },
    {
      "cell_type": "code",
      "source": [
        "BASS_data = amyloid_preprocess(\"BASS.csv\", \"Bell-side\", \"NLR-side\", skiprows=1)\n",
        "\n",
        "print(\"Rows: \", BASS_data.shape[0])\n",
        "print(\"Columns: \", BASS_data.shape[1])\n",
        "print(\"First 5 rows of data:\")\n",
        "print(BASS_data.head())"
      ],
      "metadata": {
        "colab": {
          "base_uri": "https://localhost:8080/"
        },
        "id": "LzduDEbfIU7u",
        "outputId": "7330d9af-a2d8-4821-fbbf-662bc7f96596"
      },
      "execution_count": 9,
      "outputs": [
        {
          "output_type": "stream",
          "name": "stdout",
          "text": [
            "Rows:  279\n",
            "Columns:  2\n",
            "First 5 rows of data:\n",
            "                    interactor              interactee\n",
            "0  RHVHLRARASGSARIYQAGRDQHITER  MEGRASGSARIYQAGGDQYIEE\n",
            "1  RDVHLRARASGSARIYQAGRDQHITER  MEGRASGSARIYQSGGDQYIEE\n",
            "2  RHVHLRARASGSARIYQAGRDQHITER  MEGRASGSARIYQTGGDQYIEE\n",
            "3    VHLRARASGSARIYQAGRDQHITER  MEGRASGSARIYQSGGDQYIEE\n",
            "4  RSVHLRARASGSARIYQAGRDQHITER  MEGRASGSARIYQTGGDQYIEE\n"
          ]
        }
      ]
    },
    {
      "cell_type": "markdown",
      "source": [
        "\n",
        "---\n",
        "Call the *amyloid_preprocess* function on \"many.csv\" file, containing interacting pairs of sequences of a few different amyloid motifs. Two first rows of the original file needs to be skipped, in order to correctly collect interactor and interactee sequences."
      ],
      "metadata": {
        "id": "c7z8hnWdNmbC"
      }
    },
    {
      "cell_type": "code",
      "source": [
        "many_data = amyloid_preprocess(\"many.csv\", \"i/r_seq_aln\", \"i/e_seq_aln\", skiprows=2)\n",
        "\n",
        "print(\"Rows: \", many_data.shape[0])\n",
        "print(\"Columns: \", many_data.shape[1])\n",
        "print(\"First 5 rows of data:\")\n",
        "print(many_data.head())"
      ],
      "metadata": {
        "colab": {
          "base_uri": "https://localhost:8080/"
        },
        "id": "zZzmoLpHPrNp",
        "outputId": "42794bf5-ad05-40d1-d06e-636d31487ff4"
      },
      "execution_count": 10,
      "outputs": [
        {
          "output_type": "stream",
          "name": "stdout",
          "text": [
            "Rows:  175\n",
            "Columns:  2\n",
            "First 5 rows of data:\n",
            "                   interactor                 interactee\n",
            "0        NQVRSIHAEGQARVHVGNSY      GRNSAKDIRTEKRARVQLGNV\n",
            "1        NQVRSIHAEGQARVHVGNSY   TTNSVETVVGKGESKVLIGNEYGG\n",
            "2     SFGDNNSGFQAGIINGAVNTNFY           SFGSQNSGFQAGIING\n",
            "3  NNSGTGTQNNNSGAGRQYNAHTITIV  NNTGSGTQNNNSGDGRQYNAQTMNF\n",
            "4          VQSLNASGSSRVHVGNSY  STVNHVNEVNTTEPSRVNIGNTWGG\n"
          ]
        }
      ]
    },
    {
      "cell_type": "markdown",
      "source": [
        "---\n",
        "Merge 3 created DataFrames together, creating one big dataset called \"merged\"."
      ],
      "metadata": {
        "id": "Iu-41raMOzXo"
      }
    },
    {
      "cell_type": "code",
      "source": [
        "merged_data = pd.concat([HRAM_data, BASS_data, many_data], ignore_index=True)\n",
        "\n",
        "print(\"Rows: \", merged_data.shape[0])\n",
        "print(\"Columns: \", merged_data.shape[1])\n",
        "print(\"First 5 rows of data:\")\n",
        "print(merged_data.head())"
      ],
      "metadata": {
        "colab": {
          "base_uri": "https://localhost:8080/"
        },
        "id": "Kd0qmy_QjdV4",
        "outputId": "63cbaf7d-521d-4060-b9b6-b0c31124d2f1"
      },
      "execution_count": 11,
      "outputs": [
        {
          "output_type": "stream",
          "name": "stdout",
          "text": [
            "Rows:  600\n",
            "Columns:  2\n",
            "First 5 rows of data:\n",
            "              interactor             interactee\n",
            "0  GRNSAKDIRTEERARVQLGNV  TTNSVETVVGKGESRVLIGNE\n",
            "1  GRNSAKDIRTEKRARVQLGNV  TTNSVETVVGKGESKVLIGNE\n",
            "2  VRIYAKDIKSEEMARVRVGNE  TVSRVDSVAARGKSAVHIGHQ\n",
            "3    GKNSAGRINGPGMVNIGNS  TVNHVDEINTAEPSRVHIGNT\n",
            "4  HRIKIGKVTQASNAKAVIGVH  MNVEIDDVSVGPGSWSLVGVS\n"
          ]
        }
      ]
    },
    {
      "cell_type": "markdown",
      "source": [
        "---\n",
        "Save \"merged\" dataset to CSV file to use in machine learning trainings preformed during the project."
      ],
      "metadata": {
        "id": "q10LqseBPQIp"
      }
    },
    {
      "cell_type": "code",
      "source": [
        "merged_data.to_csv(\"merged_data.csv\", index=False)"
      ],
      "metadata": {
        "id": "54q9Kgkeo_vN"
      },
      "execution_count": null,
      "outputs": []
    },
    {
      "cell_type": "markdown",
      "source": [
        "---\n",
        "Function putting gaps in sequences by:\n",
        "1. iterating through the number of repeat times,\n",
        "2. iterating through sequences in the list,\n",
        "3. getting indices of elements in the sequence,\n",
        "4. selecting randomply indices where gaps will be put based on given \"gaps\" argument,\n",
        "5. iterating through sampled indices and putting underscore (_) as a represenation of gaps,\n",
        "6. returning lists of full and gapped sequences."
      ],
      "metadata": {
        "id": "zVh8riKDcC-P"
      }
    },
    {
      "cell_type": "code",
      "source": [
        "def gap_sequences(column, gaps, repeat=1):\n",
        "  \"\"\"\n",
        "    Generate gapped sequences based on the input column.\n",
        "\n",
        "    Args:\n",
        "        column (list): List of sequences.\n",
        "        gaps (int): Number of gaps to be inserted in each sequence.\n",
        "        repeat (int, optional): Number of times to repeat the process. Defaults to 1.\n",
        "\n",
        "    Returns:\n",
        "        tuple: A tuple containing two lists:\n",
        "            - seqs: The original sequences from the input column.\n",
        "            - gapped: The gapped sequences with gaps inserted.\n",
        "\n",
        "    The function generates gapped sequences by randomly inserting gaps in each sequence.\n",
        "    The number of gaps inserted is determined by the 'gaps' parameter.\n",
        "\n",
        "    The process can be repeated multiple times by specifying the 'repeat' parameter.\n",
        "    The resulting sequences are collected in the 'gapped' list.\n",
        "\n",
        "    The original sequences from the input column are stored in the 'seqs' list.\n",
        "\n",
        "    Both 'seqs' and 'gapped' lists are returned as a tuple.\n",
        "  \"\"\"\n",
        "  inds = []\n",
        "  seqs = []\n",
        "  gapped = []\n",
        "\n",
        "  for i in range(repeat):\n",
        "    for seq in column:\n",
        "      seqs.append(seq)\n",
        "      inds = [i for i, _ in enumerate(seq)]\n",
        "\n",
        "      samp = random.sample(inds, gaps)\n",
        "\n",
        "      for index in samp:\n",
        "        seq = seq[:index] + \"_\" + seq[index + 1:]\n",
        "\n",
        "      gapped.append(seq)\n",
        "\n",
        "  return seqs, gapped"
      ],
      "metadata": {
        "id": "QYm-BhfMbQu0"
      },
      "execution_count": 29,
      "outputs": []
    },
    {
      "cell_type": "markdown",
      "source": [
        "---\n",
        "Call the *gap_sequences* function on interactor sequences from \"merged\" dataset."
      ],
      "metadata": {
        "id": "fOeTKW45dEDk"
      }
    },
    {
      "cell_type": "code",
      "source": [
        "seq_list = merged_data[\"interactor\"].values\n",
        "\n",
        "full, gapped = gap_sequences(seq_list, 5)\n",
        "\n",
        "print(full[0:5])\n",
        "print(gapped[0:5])"
      ],
      "metadata": {
        "colab": {
          "base_uri": "https://localhost:8080/"
        },
        "id": "grfyzrFrdDuA",
        "outputId": "e8b85d9c-a16b-41c9-8859-f9f54ee55a2f"
      },
      "execution_count": 32,
      "outputs": [
        {
          "output_type": "stream",
          "name": "stdout",
          "text": [
            "['GRNSAKDIRTEERARVQLGNV', 'GRNSAKDIRTEKRARVQLGNV', 'VRIYAKDIKSEEMARVRVGNE', 'GKNSAGRINGPGMVNIGNS', 'HRIKIGKVTQASNAKAVIGVH']\n",
            "['G_NS_KDIRTE_R_R_QLGNV', 'GRN_AK_IRT_K_A_VQLGNV', 'VRIY_KDI__EEMA_V_VGNE', 'G_NSAGRI__PGMVN_GN_', '_RIKIG_VTQ_SN_KAV_GVH']\n"
          ]
        }
      ]
    },
    {
      "cell_type": "markdown",
      "source": [
        "---\n",
        "Function performing one-hot encoding on a list of sequences by:\n",
        "1. determining number of rows (n_row),\n",
        "2. determining maximal sequence length (max_seq_len),\n",
        "3. choosing greater value amongst maximal sequence length with \"length\" given as an argument, to determine the number of positions in sequences,\n",
        "4. creating a 3D array filled with zeros,\n",
        "5. iterating through sequences and aminoacids in a nested loop,\n",
        "6. setting array positions coresponding to aminoacids as 1,\n",
        "7. returning the array with one-hot encoded representation of initial list of sequences."
      ],
      "metadata": {
        "id": "wzLam_UUW6-E"
      }
    },
    {
      "cell_type": "code",
      "source": [
        "char_to_int = {'A': 0, 'C': 1, 'D': 2, 'E': 3, 'F': 4, 'G': 5, 'H': 6,\n",
        "               'I': 7, 'K': 8, 'L': 9, 'M': 10, 'N': 11, 'P': 12,\n",
        "               'Q': 13, 'R': 14, 'S': 15, 'T': 16, 'V': 17, 'W': 18,\n",
        "               'Y': 19, '_': 20}\n",
        "\n",
        "def one_hot_encoding(seqs, length=1):\n",
        "  \"\"\"\n",
        "    Perform one-hot encoding on a list of sequences.\n",
        "\n",
        "    Args:\n",
        "        seqs (list): List of sequences to be encoded.\n",
        "        length (int, optional): Desired length of the encoded sequences. Defaults to 1.\n",
        "\n",
        "    Returns:\n",
        "        numpy.ndarray: One-hot encoded representation of the sequences.\n",
        "            The array shape is (n_rows, max_len, n_classes), where:\n",
        "                - n_rows is the number of sequences in seqs.\n",
        "                - max_len is the maximum length among all sequences in seqs or length, whichever is greater.\n",
        "                - n_classes is the number of unique classes (characters) in the sequences.\n",
        "\n",
        "  \"\"\"\n",
        "  n_rows = len(seqs)\n",
        "  max_seq_len = max(len(seqs[i]) for i in range(n_rows))\n",
        "  max_len = max(max_seq_len, length)\n",
        "  n_classes = len(char_to_int)\n",
        "\n",
        "  encoded = np.zeros((n_rows, max_len, n_classes))\n",
        "\n",
        "  for i in range(n_rows):\n",
        "      seq = seqs[i]\n",
        "      for j, letter in enumerate(seq):\n",
        "        encoded[i, j, char_to_int[letter.upper()]] = 1\n",
        "\n",
        "  return encoded"
      ],
      "metadata": {
        "id": "ikFQoQJcp2VT"
      },
      "execution_count": 28,
      "outputs": []
    },
    {
      "cell_type": "markdown",
      "source": [
        "---\n",
        "Call the *one_hot_encoding* function on interactor sequences from \"merged\" dataset.\n",
        "\n"
      ],
      "metadata": {
        "id": "9WCyxv9naetM"
      }
    },
    {
      "cell_type": "code",
      "source": [
        "seq_list = merged_data[\"interactor\"].values\n",
        "\n",
        "one_hot_encoded = one_hot_encoding(seq_list)\n",
        "\n",
        "print(\"Number of sequences: \", one_hot_encoded.shape[0])\n",
        "print(\"Length of encoded sequences: \", one_hot_encoded.shape[1])\n",
        "print(\"Possible aminoacids on a position of sequence: \", one_hot_encoded.shape[2])\n",
        "print(\"Vector encoding a G aminoacid: \", one_hot_encoded[0][0])"
      ],
      "metadata": {
        "colab": {
          "base_uri": "https://localhost:8080/"
        },
        "id": "b4YDq-i7tQo5",
        "outputId": "c070c364-c4f0-44b5-b9a2-3633fab5c767"
      },
      "execution_count": 26,
      "outputs": [
        {
          "output_type": "stream",
          "name": "stdout",
          "text": [
            "Number of sequences:  600\n",
            "Length of encoded sequences:  65\n",
            "Possible aminoacids on a position of sequence:  21\n",
            "Vector encoding a G aminoacid:  [0. 0. 0. 0. 0. 1. 0. 0. 0. 0. 0. 0. 0. 0. 0. 0. 0. 0. 0. 0. 0.]\n"
          ]
        }
      ]
    }
  ]
}
